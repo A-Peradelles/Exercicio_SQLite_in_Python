{
 "cells": [
  {
   "cell_type": "markdown",
   "id": "550e306c",
   "metadata": {},
   "source": [
    "### 1 -  Utilizando comandos SQL, apresente a instrução que resolva os seguintes problemas propostos:\n",
    "Para resolução das questões, considere o seguinte esquema:\n",
    "\n",
    "Funcionarios (Codigo, PrimeiroNome,\n",
    "SegundoNome, UltimoNome,\n",
    "DataNasci, CPF, RG, Endereco, CEP,\n",
    "Cidade, Fone, CodigoDepartamento,\n",
    "Funcao, Salario)\n",
    "\n",
    "Departamentos (Codigo, Nome,\n",
    "Localizacao,\n",
    "CodigoFuncionarioGerente)\n",
    "\n",
    "Obs: Crie ao menos 10 registros para a tabela Funcionários e ao menos 5 registros para tabela Departamentos.\n",
    "\n",
    "    A) Listar nome e sobrenome ordenado por sobrenome\n",
    "    B) Listar todos os campos de funcionários ordenados por cidade\n",
    "    C) Liste os funcionários que têm salário superior a R$ 1.000,00 ordenados pelo nome completo\n",
    "    D) Liste a data de nascimento e o primeiro nome dos funcionários ordenados do mais novo para o mais velho\n",
    "    E) Liste o total da folha de pagamento\n",
    "    F) Liste o nome, o nome do departamento e a função de todos os funcionários\n",
    "    G) Liste a quantidade de funcionários desta empresa\n",
    "    H) Liste o nome do departamento e do funcionário ordenados por departamento e funcionário"
   ]
  },
  {
   "cell_type": "code",
   "execution_count": 6,
   "id": "ed8f031b",
   "metadata": {},
   "outputs": [],
   "source": [
    "# Criar/Conectar Banco de Dados\n",
    "import sqlite3\n",
    "\n",
    "banco=sqlite3.connect('BancoDados.db')\n",
    "cursor=banco.cursor()"
   ]
  },
  {
   "cell_type": "code",
   "execution_count": 32,
   "id": "5a549d55",
   "metadata": {},
   "outputs": [
    {
     "data": {
      "text/plain": [
       "<sqlite3.Cursor at 0x2102df74dc0>"
      ]
     },
     "execution_count": 32,
     "metadata": {},
     "output_type": "execute_result"
    }
   ],
   "source": [
    "# Criar Tabelas\n",
    "\n",
    "cursor.execute(\"CREATE TABLE Funcionarios (Codigo INT PRIMARY KEY, PrimeiroNome TEXT, SegundoNome TEXT, UltimoNome TEXT, DataNasci DATE, CPF VARCHAR(11), RG TEXT, Endereco TEXT, CEP VARCHAR(9), Cidade TEXT, Fone TEXT, CodigoDepartamento INT, Funcao TEXT, Salario FLOAT)\")\n",
    "cursor.execute(\"CREATE TABLE Departamentos (Codigo integer PRIMARY KEY, Nome text, Localizacao text, CodigoFuncionarioGerente integer)\")"
   ]
  },
  {
   "cell_type": "code",
   "execution_count": 30,
   "id": "838ee4ff",
   "metadata": {},
   "outputs": [
    {
     "data": {
      "text/plain": [
       "<sqlite3.Cursor at 0x2102df74dc0>"
      ]
     },
     "execution_count": 30,
     "metadata": {},
     "output_type": "execute_result"
    }
   ],
   "source": [
    "# Deletar Tabela\n",
    "\n",
    "cursor.execute(\"DROP TABLE Funcionarios\")"
   ]
  },
  {
   "cell_type": "code",
   "execution_count": 33,
   "id": "26fff28d",
   "metadata": {},
   "outputs": [],
   "source": [
    "# Inserindo Dados em Funcionarios\n",
    "\n",
    "lista1=[\n",
    "    ('1','Pietruss','Rodrigues','Guima','2000-01-20','','','','','Macae','','1','Gerente','500'),\n",
    "    ('2','Andre','Geovani','Fayan','1993-02-25','','','','','Cabo Frio','','5','Cordenador','1000'),\n",
    "    ('3','Mozart','Leandro','Rodrigues','1980-03-01','','','','','Rio de Janeiro','','2','Engenheiro','1500'),\n",
    "    ('4','Gabriel','Alves','Valdones','1988-04-10','','','','','Campos','','4','Medico','800'),\n",
    "    ('5','Alvaro','Pereira','Sena','1980-05-15','','','','','Sao Paulo','','3','Montador','2000'),\n",
    "    ('6','Lucio','Adao','Lorca','1996-06-07','','','','','Vitoria','','3','CEO','1800'),\n",
    "    ('7','Diego','Cassia','Dantas','1987-07-08','','','','','Curitiba','','5','Assistente','600'),\n",
    "    ('8','Elton','Silva','Pereira','1990-08-22','','','','','Fortaleza','','1','Auxiliar','1200'),\n",
    "    ('9','Heitor','Pietro','Silva','1991-09-17','','','','','Niteroi','','2','Contratador','1600'),\n",
    "    ('10','Valdones','Luan','Machado','1993-10-13','','','','','Belem','','4','Servicos Gerais','900')\n",
    "]\n",
    "\n",
    "cursor.executemany(\"INSERT INTO funcionarios VALUES (?,?,?,?,?,?,?,?,?,?,?,?,?,?)\", lista1)\n",
    "banco.commit()"
   ]
  },
  {
   "cell_type": "code",
   "execution_count": 22,
   "id": "093e07ed",
   "metadata": {},
   "outputs": [],
   "source": [
    "# Inserindo Dados em Departamentos\n",
    "\n",
    "lista2=[\n",
    "    ('1','Financeiro','Sao Paulo','1'),\n",
    "    ('2','Administrativo','Rio de Janeiro','2'),\n",
    "    ('3','RH','Rio de Janeiro','2'),\n",
    "    ('4','Marketing','Sao Paulo','1'),\n",
    "    ('5','Producao','Macae','3')\n",
    "]\n",
    "\n",
    "cursor.executemany(\"INSERT INTO departamentos VALUES (?,?,?,?)\", lista2)\n",
    "banco.commit()"
   ]
  },
  {
   "cell_type": "code",
   "execution_count": 24,
   "id": "ae0d50b8",
   "metadata": {},
   "outputs": [
    {
     "name": "stdout",
     "output_type": "stream",
     "text": [
      "[('Diego', 'Dantas'), ('Andre', 'Fayan'), ('Pietruss', 'Guima'), ('Lucio', 'Lorca'), ('Valdones', 'Machado'), ('Elton', 'Pereira'), ('Mozart', 'Rodrigues'), ('Alvaro', 'Sena'), ('Heitor', 'Silva'), ('Gabriel', 'Valdones')]\n"
     ]
    }
   ],
   "source": [
    "# A) Listar nome e sobrenome ordenado por sobrenome\n",
    "\n",
    "cursor.execute(\"SELECT PrimeiroNome, UltimoNome FROM funcionarios ORDER BY UltimoNome ASC\")\n",
    "print(cursor.fetchall())"
   ]
  },
  {
   "cell_type": "code",
   "execution_count": 40,
   "id": "600aca1c",
   "metadata": {},
   "outputs": [
    {
     "name": "stdout",
     "output_type": "stream",
     "text": [
      "[(10, 'Valdones', 'Luan', 'Machado', '1993-10-13', '', '', '', '', 'Belem', '', 4, 'Servicos Gerais', 900.0), (2, 'Andre', 'Geovani', 'Fayan', '1993-02-25', '', '', '', '', 'Cabo Frio', '', 5, 'Cordenador', 1000.0), (4, 'Gabriel', 'Alves', 'Valdones', '1988-04-10', '', '', '', '', 'Campos', '', 4, 'Medico', 800.0), (7, 'Diego', 'Cassia', 'Dantas', '1987-07-08', '', '', '', '', 'Curitiba', '', 5, 'Assistente', 600.0), (8, 'Elton', 'Silva', 'Pereira', '1990-08-22', '', '', '', '', 'Fortaleza', '', 1, 'Auxiliar', 1200.0), (1, 'Pietruss', 'Rodrigues', 'Guima', '2000-01-20', '', '', '', '', 'Macae', '', 1, 'Gerente', 500.0), (9, 'Heitor', 'Pietro', 'Silva', '1991-09-17', '', '', '', '', 'Niteroi', '', 2, 'Contratador', 1600.0), (3, 'Mozart', 'Leandro', 'Rodrigues', '1980-03-01', '', '', '', '', 'Rio de Janeiro', '', 2, 'Engenheiro', 1500.0), (5, 'Alvaro', 'Pereira', 'Sena', '1980-05-15', '', '', '', '', 'Sao Paulo', '', 3, 'Montador', 2000.0), (6, 'Lucio', 'Adao', 'Lorca', '1996-06-07', '', '', '', '', 'Vitoria', '', 3, 'CEO', 1800.0)]\n"
     ]
    }
   ],
   "source": [
    "# B) Listar todos os campos de funcionários ordenados por cidade\n",
    "\n",
    "cursor.execute(\"SELECT * FROM funcionarios ORDER BY cidade ASC\")\n",
    "print(cursor.fetchall())"
   ]
  },
  {
   "cell_type": "code",
   "execution_count": 26,
   "id": "f0cd1d62",
   "metadata": {},
   "outputs": [
    {
     "name": "stdout",
     "output_type": "stream",
     "text": [
      "[('Alvaro', 'Pereira', 'Sena'), ('Elton', 'Silva', 'Pereira'), ('Heitor', 'Pietro', 'Silva'), ('Lucio', 'Adao', 'Lorca'), ('Mozart', 'Leandro', 'Rodrigues')]\n"
     ]
    }
   ],
   "source": [
    "# C) Liste os funcionários que têm salário superior a R$ 1.000,00 ordenados pelo nome completo\n",
    "\n",
    "cursor.execute(\"SELECT PrimeiroNome,SegundoNome,UltimoNome FROM funcionarios WHERE salario>1000 ORDER BY PrimeiroNome ASC\")\n",
    "print(cursor.fetchall())"
   ]
  },
  {
   "cell_type": "code",
   "execution_count": 28,
   "id": "1e2cb1c8",
   "metadata": {},
   "outputs": [
    {
     "name": "stdout",
     "output_type": "stream",
     "text": [
      "[('2000-01-20', 'Pietruss'), ('1996-06-07', 'Lucio'), ('1993-10-13', 'Valdones'), ('1993-02-25', 'Andre'), ('1991-09-17', 'Heitor'), ('1990-08-22', 'Elton'), ('1988-04-10', 'Gabriel'), ('1987-07-08', 'Diego'), ('1980-05-15', 'Alvaro'), ('1980-03-01', 'Mozart')]\n"
     ]
    }
   ],
   "source": [
    "# D) Liste a data de nascimento e o primeiro nome dos funcionários ordenados do mais novo para o mais velho\n",
    "\n",
    "cursor.execute(\"SELECT DataNasci,PrimeiroNome FROM funcionarios ORDER BY DataNasci DESC\")\n",
    "print(cursor.fetchall())"
   ]
  },
  {
   "cell_type": "code",
   "execution_count": 29,
   "id": "c5d19358",
   "metadata": {},
   "outputs": [
    {
     "name": "stdout",
     "output_type": "stream",
     "text": [
      "[(11900.0,)]\n"
     ]
    }
   ],
   "source": [
    "# E) Liste o total da folha de pagamento\n",
    "\n",
    "cursor.execute(\"SELECT SUM(salario) FROM funcionarios\")\n",
    "print(cursor.fetchall())"
   ]
  },
  {
   "cell_type": "code",
   "execution_count": 39,
   "id": "b2b1a664",
   "metadata": {},
   "outputs": [
    {
     "name": "stdout",
     "output_type": "stream",
     "text": [
      "[('Pietruss', 'Financeiro', 'Gerente'), ('Andre', 'Producao', 'Cordenador'), ('Mozart', 'Administrativo', 'Engenheiro'), ('Gabriel', 'Marketing', 'Medico'), ('Alvaro', 'RH', 'Montador'), ('Lucio', 'RH', 'CEO'), ('Diego', 'Producao', 'Assistente'), ('Elton', 'Financeiro', 'Auxiliar'), ('Heitor', 'Administrativo', 'Contratador'), ('Valdones', 'Marketing', 'Servicos Gerais')]\n"
     ]
    }
   ],
   "source": [
    "# F) Liste o nome, o nome do departamento e a função de todos os funcionários\n",
    "\n",
    "cursor.execute(\"\"\"SELECT Funcionarios.PrimeiroNome,Departamentos.Nome,Funcionarios.Funcao FROM Departamentos \n",
    "               JOIN Funcionarios ON Funcionarios.CodigoDepartamento=Departamentos.Codigo\"\"\")\n",
    "print(cursor.fetchall())"
   ]
  },
  {
   "cell_type": "code",
   "execution_count": 41,
   "id": "916720e5",
   "metadata": {},
   "outputs": [
    {
     "name": "stdout",
     "output_type": "stream",
     "text": [
      "[(10,)]\n"
     ]
    }
   ],
   "source": [
    "# G) Liste a quantidade de funcionários desta empresa\n",
    "\n",
    "cursor.execute(\"SELECT COUNT() FROM Funcionarios\")\n",
    "print(cursor.fetchall())"
   ]
  },
  {
   "cell_type": "code",
   "execution_count": 47,
   "id": "ef522e0f",
   "metadata": {},
   "outputs": [
    {
     "name": "stdout",
     "output_type": "stream",
     "text": [
      "[('Administrativo', 'Mozart'), ('Administrativo', 'Heitor'), ('Financeiro', 'Pietruss'), ('Financeiro', 'Elton'), ('Marketing', 'Gabriel'), ('Marketing', 'Valdones'), ('Producao', 'Andre'), ('Producao', 'Diego'), ('RH', 'Alvaro'), ('RH', 'Lucio')]\n"
     ]
    }
   ],
   "source": [
    "# H) Liste o nome do departamento e do funcionário ordenados por departamento e funcionário\n",
    "\n",
    "cursor.execute(\"\"\"SELECT Departamentos.Nome,Funcionarios.PrimeiroNome \n",
    "               FROM Funcionarios JOIN Departamentos \n",
    "               ON Departamentos.Codigo=Funcionarios.CodigoDepartamento\n",
    "               ORDER BY Departamentos.Nome\"\"\")\n",
    "print(cursor.fetchall())"
   ]
  },
  {
   "cell_type": "code",
   "execution_count": 48,
   "id": "778878e4",
   "metadata": {},
   "outputs": [
    {
     "name": "stdout",
     "output_type": "stream",
     "text": [
      "[('RH', 'Alvaro'), ('Producao', 'Andre'), ('Producao', 'Diego'), ('Financeiro', 'Elton'), ('Marketing', 'Gabriel'), ('Administrativo', 'Heitor'), ('RH', 'Lucio'), ('Administrativo', 'Mozart'), ('Financeiro', 'Pietruss'), ('Marketing', 'Valdones')]\n"
     ]
    }
   ],
   "source": [
    "cursor.execute(\"\"\"SELECT Departamentos.Nome,Funcionarios.PrimeiroNome \n",
    "               FROM Funcionarios JOIN Departamentos \n",
    "               ON Departamentos.Codigo=Funcionarios.CodigoDepartamento\n",
    "               ORDER BY Funcionarios.PrimeiroNome\"\"\")\n",
    "print(cursor.fetchall())"
   ]
  },
  {
   "cell_type": "code",
   "execution_count": null,
   "id": "20f25d2f",
   "metadata": {},
   "outputs": [],
   "source": []
  }
 ],
 "metadata": {
  "kernelspec": {
   "display_name": "Python 3 (ipykernel)",
   "language": "python",
   "name": "python3"
  },
  "language_info": {
   "codemirror_mode": {
    "name": "ipython",
    "version": 3
   },
   "file_extension": ".py",
   "mimetype": "text/x-python",
   "name": "python",
   "nbconvert_exporter": "python",
   "pygments_lexer": "ipython3",
   "version": "3.9.12"
  }
 },
 "nbformat": 4,
 "nbformat_minor": 5
}
